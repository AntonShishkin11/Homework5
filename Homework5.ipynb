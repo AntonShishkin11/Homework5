{
 "cells": [
  {
   "cell_type": "code",
   "execution_count": 1,
   "id": "84e4d0d5-d138-4f3f-8dd1-6aa1f9ed3a67",
   "metadata": {},
   "outputs": [
    {
     "name": "stdout",
     "output_type": "stream",
     "text": [
      "2002-10-02 00:00:00\n",
      "2013-10-11 00:00:00\n",
      "1977-08-18 00:00:00\n"
     ]
    }
   ],
   "source": [
    "from datetime import datetime\n",
    "\n",
    "# Даты для каждой газеты\n",
    "moscow_times_date = \"Wednesday, October 2, 2002\"\n",
    "guardian_date = \"Friday, 11.10.13\"\n",
    "daily_news_date = \"Thursday, 18 August 1977\"\n",
    "\n",
    "# Форматы для каждой газеты\n",
    "moscow_times_format = '%A, %B %d, %Y'\n",
    "guardian_format = '%A, %d.%m.%y'\n",
    "daily_news_format = '%A, %d %B %Y'\n",
    "\n",
    "# Перевод в объекты datetime\n",
    "moscow_times_datetime = datetime.strptime(moscow_times_date, moscow_times_format)\n",
    "guardian_datetime = datetime.strptime(guardian_date, guardian_format)\n",
    "daily_news_datetime = datetime.strptime(daily_news_date, daily_news_format)\n",
    "\n",
    "# Вывод результатов\n",
    "print(moscow_times_datetime)\n",
    "print(guardian_datetime)\n",
    "print(daily_news_datetime)"
   ]
  },
  {
   "cell_type": "code",
   "execution_count": null,
   "id": "810bfb06-b5db-4a01-9c72-28920d4428bd",
   "metadata": {},
   "outputs": [],
   "source": []
  }
 ],
 "metadata": {
  "kernelspec": {
   "display_name": "Python 3 (ipykernel)",
   "language": "python",
   "name": "python3"
  },
  "language_info": {
   "codemirror_mode": {
    "name": "ipython",
    "version": 3
   },
   "file_extension": ".py",
   "mimetype": "text/x-python",
   "name": "python",
   "nbconvert_exporter": "python",
   "pygments_lexer": "ipython3",
   "version": "3.11.1"
  }
 },
 "nbformat": 4,
 "nbformat_minor": 5
}
